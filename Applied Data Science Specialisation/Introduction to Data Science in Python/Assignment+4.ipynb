{
 "cells": [
  {
   "cell_type": "markdown",
   "metadata": {},
   "source": [
    "---\n",
    "\n",
    "_You are currently looking at **version 1.1** of this notebook. To download notebooks and datafiles, as well as get help on Jupyter notebooks in the Coursera platform, visit the [Jupyter Notebook FAQ](https://www.coursera.org/learn/python-data-analysis/resources/0dhYG) course resource._\n",
    "\n",
    "---"
   ]
  },
  {
   "cell_type": "code",
   "execution_count": null,
   "metadata": {
    "collapsed": true
   },
   "outputs": [],
   "source": [
    "import pandas as pd\n",
    "import numpy as np\n",
    "from scipy.stats import ttest_ind"
   ]
  },
  {
   "cell_type": "markdown",
   "metadata": {},
   "source": [
    "# Assignment 4 - Hypothesis Testing\n",
    "This assignment requires more individual learning than previous assignments - you are encouraged to check out the [pandas documentation](http://pandas.pydata.org/pandas-docs/stable/) to find functions or methods you might not have used yet, or ask questions on [Stack Overflow](http://stackoverflow.com/) and tag them as pandas and python related. And of course, the discussion forums are open for interaction with your peers and the course staff.\n",
    "\n",
    "Definitions:\n",
    "* A _quarter_ is a specific three month period, Q1 is January through March, Q2 is April through June, Q3 is July through September, Q4 is October through December.\n",
    "* A _recession_ is defined as starting with two consecutive quarters of GDP decline, and ending with two consecutive quarters of GDP growth.\n",
    "* A _recession bottom_ is the quarter within a recession which had the lowest GDP.\n",
    "* A _university town_ is a city which has a high percentage of university students compared to the total population of the city.\n",
    "\n",
    "**Hypothesis**: University towns have their mean housing prices less effected by recessions. Run a t-test to compare the ratio of the mean price of houses in university towns the quarter before the recession starts compared to the recession bottom. (`price_ratio=quarter_before_recession/recession_bottom`)\n",
    "\n",
    "The following data files are available for this assignment:\n",
    "* From the [Zillow research data site](http://www.zillow.com/research/data/) there is housing data for the United States. In particular the datafile for [all homes at a city level](http://files.zillowstatic.com/research/public/City/City_Zhvi_AllHomes.csv), ```City_Zhvi_AllHomes.csv```, has median home sale prices at a fine grained level.\n",
    "* From the Wikipedia page on college towns is a list of [university towns in the United States](https://en.wikipedia.org/wiki/List_of_college_towns#College_towns_in_the_United_States) which has been copy and pasted into the file ```university_towns.txt```.\n",
    "* From Bureau of Economic Analysis, US Department of Commerce, the [GDP over time](http://www.bea.gov/national/index.htm#gdp) of the United States in current dollars (use the chained value in 2009 dollars), in quarterly intervals, in the file ```gdplev.xls```. For this assignment, only look at GDP data from the first quarter of 2000 onward.\n",
    "\n",
    "Each function in this assignment below is worth 10%, with the exception of ```run_ttest()```, which is worth 50%."
   ]
  },
  {
   "cell_type": "code",
   "execution_count": null,
   "metadata": {
    "collapsed": true
   },
   "outputs": [],
   "source": [
    "# Use this dictionary to map state names to two letter acronyms\n",
    "states = {'OH': 'Ohio', 'KY': 'Kentucky', 'AS': 'American Samoa', 'NV': 'Nevada', 'WY': 'Wyoming', 'NA': 'National', 'AL': 'Alabama', 'MD': 'Maryland', 'AK': 'Alaska', 'UT': 'Utah', 'OR': 'Oregon', 'MT': 'Montana', 'IL': 'Illinois', 'TN': 'Tennessee', 'DC': 'District of Columbia', 'VT': 'Vermont', 'ID': 'Idaho', 'AR': 'Arkansas', 'ME': 'Maine', 'WA': 'Washington', 'HI': 'Hawaii', 'WI': 'Wisconsin', 'MI': 'Michigan', 'IN': 'Indiana', 'NJ': 'New Jersey', 'AZ': 'Arizona', 'GU': 'Guam', 'MS': 'Mississippi', 'PR': 'Puerto Rico', 'NC': 'North Carolina', 'TX': 'Texas', 'SD': 'South Dakota', 'MP': 'Northern Mariana Islands', 'IA': 'Iowa', 'MO': 'Missouri', 'CT': 'Connecticut', 'WV': 'West Virginia', 'SC': 'South Carolina', 'LA': 'Louisiana', 'KS': 'Kansas', 'NY': 'New York', 'NE': 'Nebraska', 'OK': 'Oklahoma', 'FL': 'Florida', 'CA': 'California', 'CO': 'Colorado', 'PA': 'Pennsylvania', 'DE': 'Delaware', 'NM': 'New Mexico', 'RI': 'Rhode Island', 'MN': 'Minnesota', 'VI': 'Virgin Islands', 'NH': 'New Hampshire', 'MA': 'Massachusetts', 'GA': 'Georgia', 'ND': 'North Dakota', 'VA': 'Virginia'}"
   ]
  },
  {
   "cell_type": "code",
   "execution_count": null,
   "metadata": {
    "umich_part_id": "021",
    "umich_partlist_id": "004"
   },
   "outputs": [],
   "source": [
    "def remove_to_end(s, character):\n",
    "    if not isinstance(s, str):\n",
    "        return s\n",
    "    if character in s:\n",
    "        start = s.find(character)\n",
    "        return s[:start]\n",
    "    return s\n",
    "\n",
    "def get_list_of_university_towns():\n",
    "    '''Returns a DataFrame of towns and the states they are in from the \n",
    "    university_towns.txt list. The format of the DataFrame should be:\n",
    "    DataFrame( [ [\"Michigan\", \"Ann Arbor\"], [\"Michigan\", \"Yipsilanti\"] ], \n",
    "    columns=[\"State\", \"RegionName\"]  )\n",
    "    The following cleaning needs to be done:\n",
    "\n",
    "    1. For \"State\", removing characters from \"[\" to the end.\n",
    "    2. For \"RegionName\", when applicable, removing every character from \" (\" to the end.\n",
    "    3. Depending on how you read the data, you may need to remove newline character '\\n'. '''\n",
    "    raw = pd.read_table('university_towns.txt', header=None)\n",
    "    raw.columns = ['raw']\n",
    "    raw['is_state'] = raw.iloc[:,0].str.contains('edit')\n",
    "    raw['State'] = raw.loc[raw['is_state'], 'raw'].str.strip()\n",
    "    raw['State'] = raw['State'].map(lambda x: remove_to_end(x, '['))\n",
    "    raw['State'].fillna(method='ffill', inplace=True)\n",
    "    raw.drop(raw.loc[raw['is_state']].index, inplace=True)\n",
    "    raw['RegionName'] = raw['raw'].map(lambda x: remove_to_end(x, ' ('))\n",
    "    return raw[['State', 'RegionName']]\n",
    "%timeit get_list_of_university_towns()"
   ]
  },
  {
   "cell_type": "code",
   "execution_count": null,
   "metadata": {
    "umich_part_id": "022",
    "umich_partlist_id": "004"
   },
   "outputs": [],
   "source": [
    "def get_year(s):\n",
    "    return int(s[:4])\n",
    "\n",
    "gdp = pd.read_excel('gdplev.xls')\n",
    "gdp_cols = ['qy', 'drop', 'current']\n",
    "gdp = gdp.iloc[:, 4:7].dropna()\n",
    "gdp.columns = gdp_cols\n",
    "gdp.drop('drop', axis=1, inplace=True)\n",
    "gdp['year'] = gdp['qy'].map(get_year)\n",
    "gdp = gdp[['year', 'qy', 'current']]\n",
    "gdp = gdp.loc[gdp['year']>= 2000]\n",
    "gdp.reset_index(drop=True, inplace=True)\n",
    "gdp['previous'] = gdp['current'].shift(1)\n",
    "gdp['increase'] = gdp['current'] > gdp['previous']\n",
    "gdp.loc[0, 'increase'] = np.nan\n",
    "gdp['increase_prev'] = gdp['increase'].shift(1)\n",
    "gdp['recesion'] = (gdp['increase_prev'] + gdp['increase']) == 0\n",
    "gdp['recesion_end'] = (gdp['increase_prev'] + gdp['increase']) == 2\n",
    "\n",
    "def get_recession_start():\n",
    "    rec_start = gdp.loc[gdp['recesion']].iloc[0].name - 1\n",
    "    return gdp.loc[rec_start, 'qy']\n",
    "%timeit get_recession_start()"
   ]
  },
  {
   "cell_type": "code",
   "execution_count": null,
   "metadata": {
    "umich_part_id": "023",
    "umich_partlist_id": "004"
   },
   "outputs": [],
   "source": [
    "def get_recession_end():\n",
    "    rec_start = gdp.loc[gdp['recesion']].iloc[0].name - 1\n",
    "    gdp_rec = gdp.loc[rec_start:]\n",
    "    rec_end = gdp_rec.loc[gdp['recesion_end']].iloc[0].name\n",
    "    return gdp.loc[rec_end, 'qy']\n",
    "%timeit get_recession_end()"
   ]
  },
  {
   "cell_type": "code",
   "execution_count": null,
   "metadata": {
    "umich_part_id": "024",
    "umich_partlist_id": "004"
   },
   "outputs": [],
   "source": [
    "def get_recession_bottom():\n",
    "    '''Returns the year and quarter of the recession bottom time as a \n",
    "    string value in a format such as 2005q3'''\n",
    "    rec_start = gdp.loc[gdp['recesion']].iloc[0].name - 1\n",
    "    gdp_rec = gdp.loc[rec_start:]\n",
    "    rec_end = gdp_rec.loc[gdp['recesion_end']].iloc[0].name\n",
    "    gdp_rec = gdp.loc[rec_start: rec_end]\n",
    "    return gdp_rec.loc[gdp_rec['current'] == gdp_rec['current'].min(), 'qy'].iloc[0]\n",
    "%timeit get_recession_bottom()"
   ]
  },
  {
   "cell_type": "code",
   "execution_count": null,
   "metadata": {
    "umich_part_id": "025",
    "umich_partlist_id": "004"
   },
   "outputs": [],
   "source": [
    "def convert_to_quarter_and_year(s):\n",
    "    dt = pd.to_datetime(s)\n",
    "    year = dt.year\n",
    "    quarter = dt.quarter\n",
    "    return str(year)+'q'+str(quarter)\n",
    "    \n",
    "def convert_housing_data_to_quarters():\n",
    "    '''Converts the housing data to quarters and returns it as mean \n",
    "    values in a dataframe. This dataframe should be a dataframe with\n",
    "    columns for 2000q1 through 2016q3, and should have a multi-index\n",
    "    in the shape of [\"State\",\"RegionName\"].\n",
    "    \n",
    "    Note: Quarters are defined in the assignment description, they are\n",
    "    not arbitrary three month periods.\n",
    "    \n",
    "    The resulting dataframe should have 67 columns, and 10,730 rows.\n",
    "    '''\n",
    "    df = pd.read_csv('City_Zhvi_AllHomes.csv')\n",
    "    cols = df.columns.tolist()\n",
    "    new_cols = cols[:6] + [convert_to_quarter_and_year(c) for c in cols[6:]]\n",
    "    df.columns = new_cols\n",
    "    new_df = df[new_cols[:6]]\n",
    "    used_q = []\n",
    "    for q in new_cols[6:]:\n",
    "        if q not in used_q and (2000<=int(q[:4])<=2015 or int(q[:4])==2016 and int(q[-1]) != 4):\n",
    "            new_df[q] = df[q].mean(axis=1)\n",
    "        used_q.append(q)\n",
    "    new_df.drop(['Metro', 'CountyName', 'SizeRank', 'RegionID'], axis=1, inplace=True)\n",
    "    new_df['State'] = new_df['State'].replace(states)\n",
    "    return new_df.set_index(['State', 'RegionName'])\n",
    "convert_housing_data_to_quarters()"
   ]
  },
  {
   "cell_type": "code",
   "execution_count": null,
   "metadata": {
    "umich_part_id": "026",
    "umich_partlist_id": "004"
   },
   "outputs": [],
   "source": [
    "def run_ttest():\n",
    "    '''First creates new data showing the decline or growth of housing prices\n",
    "    between the recession start and the recession bottom. Then runs a ttest\n",
    "    comparing the university town values to the non-university towns values, \n",
    "    return whether the alternative hypothesis (that the two groups are the same)\n",
    "    is true or not as well as the p-value of the confidence. \n",
    "    \n",
    "    Return the tuple (different, p, better) where different=True if the t-test is\n",
    "    True at a p<0.01 (we reject the null hypothesis), or different=False if \n",
    "    otherwise (we cannot reject the null hypothesis). The variable p should\n",
    "    be equal to the exact p value returned from scipy.stats.ttest_ind(). The\n",
    "    value for better should be either \"university town\" or \"non-university town\"\n",
    "    depending on which has a lower mean price ratio (which is equivilent to a\n",
    "    reduced market loss).'''\n",
    "    all_data = convert_housing_data_to_quarters()\n",
    "    university_towns = get_list_of_university_towns() \n",
    "    start = get_recession_start()\n",
    "    end = get_recession_bottom()\n",
    "    cols = []\n",
    "    flag = False\n",
    "    for c in all_data.columns:\n",
    "\n",
    "        if c == start:\n",
    "            flag = True\n",
    "        if flag:\n",
    "            cols.append(c)\n",
    "        if c == end:\n",
    "            flag = False\n",
    "            \n",
    "    all_data = all_data[cols]\n",
    "    merged_data = all_data.merge(university_towns, left_index=True, right_on=['State', 'RegionName'], how='left', indicator=True)\n",
    "    \n",
    "    uni_data = merged_data.loc[merged_data['_merge'] == 'both'].drop(['_merge', 'State', 'RegionName'], axis=1)\n",
    "    other_data = merged_data.loc[merged_data['_merge'] == 'left_only'].drop(['_merge', 'State', 'RegionName'], axis=1)\n",
    "    statistic, pvalue = ttest_ind(other_data.mean(), uni_data.mean())\n",
    "    uni_pr = uni_data.mean()[end]/uni_data.mean()[start]\n",
    "    other_pr = other_data.mean()[end]/other_data.mean()[start]\n",
    "    return pvalue < 0.01, pvalue, \"university town\" if uni_pr > other_pr else  \"non-university town\"\n",
    "%timeit run_ttest()"
   ]
  }
 ],
 "metadata": {
  "coursera": {
   "course_slug": "python-data-analysis",
   "graded_item_id": "Il9Fx",
   "launcher_item_id": "TeDW0",
   "part_id": "WGlun"
  },
  "kernelspec": {
   "display_name": "Python 3",
   "language": "python",
   "name": "python3"
  },
  "language_info": {
   "codemirror_mode": {
    "name": "ipython",
    "version": 3
   },
   "file_extension": ".py",
   "mimetype": "text/x-python",
   "name": "python",
   "nbconvert_exporter": "python",
   "pygments_lexer": "ipython3",
   "version": "3.6.0"
  },
  "umich": {
   "id": "Assignment 4",
   "version": "1.1"
  }
 },
 "nbformat": 4,
 "nbformat_minor": 1
}
